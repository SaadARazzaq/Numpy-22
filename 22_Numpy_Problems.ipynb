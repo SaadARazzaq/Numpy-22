{
  "nbformat": 4,
  "nbformat_minor": 0,
  "metadata": {
    "colab": {
      "provenance": [],
      "authorship_tag": "ABX9TyOLd6natGwmWNOTaJpOGo3g",
      "include_colab_link": true
    },
    "kernelspec": {
      "name": "python3",
      "display_name": "Python 3"
    },
    "language_info": {
      "name": "python"
    }
  },
  "cells": [
    {
      "cell_type": "markdown",
      "metadata": {
        "id": "view-in-github",
        "colab_type": "text"
      },
      "source": [
        "<a href=\"https://colab.research.google.com/github/SaadARazzaq/Numpy-22/blob/main/22_Numpy_Problems.ipynb\" target=\"_parent\"><img src=\"https://colab.research.google.com/assets/colab-badge.svg\" alt=\"Open In Colab\"/></a>"
      ]
    },
    {
      "cell_type": "markdown",
      "source": [
        "# **22 Numpy Problems**"
      ],
      "metadata": {
        "id": "ym44c3uZcHQw"
      }
    },
    {
      "cell_type": "code",
      "source": [
        "import numpy as np"
      ],
      "metadata": {
        "id": "Gn-viAH3c9ti"
      },
      "execution_count": 1,
      "outputs": []
    },
    {
      "cell_type": "code",
      "source": [
        "# Task 1: Find indices of non-zero elements from [1,2,0,0,4,0] (★☆☆)\n",
        "indices = np.nonzero([1,2,0,0,4,0])\n",
        "indices"
      ],
      "metadata": {
        "colab": {
          "base_uri": "https://localhost:8080/"
        },
        "id": "yfbRVc2sdxPA",
        "outputId": "277f4bd8-2657-473c-86ca-6e3738918c76"
      },
      "execution_count": 5,
      "outputs": [
        {
          "output_type": "execute_result",
          "data": {
            "text/plain": [
              "(array([0, 1, 4]),)"
            ]
          },
          "metadata": {},
          "execution_count": 5
        }
      ]
    },
    {
      "cell_type": "code",
      "source": [
        "# Task 2:  Create a null vector of size 10 (★☆☆)\n",
        "\n",
        "null_vector = np.zeros(10)\n",
        "null_vector"
      ],
      "metadata": {
        "colab": {
          "base_uri": "https://localhost:8080/"
        },
        "id": "Jm_9XEYEfD5X",
        "outputId": "89ff6f60-b1c8-47c8-e496-216a4b2a259d"
      },
      "execution_count": 6,
      "outputs": [
        {
          "output_type": "execute_result",
          "data": {
            "text/plain": [
              "array([0., 0., 0., 0., 0., 0., 0., 0., 0., 0.])"
            ]
          },
          "metadata": {},
          "execution_count": 6
        }
      ]
    },
    {
      "cell_type": "code",
      "source": [
        "# Task 3:  Create a null vector of size 10 but the fifth value which is 1 (★☆☆)\n",
        "\n",
        "null_vector_1 = np.zeros(10)\n",
        "null_vector_1[4] = 1\n",
        "null_vector_1"
      ],
      "metadata": {
        "colab": {
          "base_uri": "https://localhost:8080/"
        },
        "id": "pZCODFuQfSq6",
        "outputId": "e034dee4-a8c8-4190-b308-8edc2ec05d78"
      },
      "execution_count": 8,
      "outputs": [
        {
          "output_type": "execute_result",
          "data": {
            "text/plain": [
              "array([0., 0., 0., 0., 1., 0., 0., 0., 0., 0.])"
            ]
          },
          "metadata": {},
          "execution_count": 8
        }
      ]
    },
    {
      "cell_type": "code",
      "source": [
        "# Task 4:   Create a vector with values ranging from 10 to 49 (★☆☆)\n",
        "\n",
        "range_vector = np.arange(10, 50)\n",
        "range_vector"
      ],
      "metadata": {
        "colab": {
          "base_uri": "https://localhost:8080/"
        },
        "id": "HznSIdu0f_ex",
        "outputId": "b6b2f561-033b-43ad-8151-15c3661e3f5f"
      },
      "execution_count": 13,
      "outputs": [
        {
          "output_type": "execute_result",
          "data": {
            "text/plain": [
              "array([10, 11, 12, 13, 14, 15, 16, 17, 18, 19, 20, 21, 22, 23, 24, 25, 26,\n",
              "       27, 28, 29, 30, 31, 32, 33, 34, 35, 36, 37, 38, 39, 40, 41, 42, 43,\n",
              "       44, 45, 46, 47, 48, 49])"
            ]
          },
          "metadata": {},
          "execution_count": 13
        }
      ]
    },
    {
      "cell_type": "code",
      "source": [
        "# Task 5:   Reverse a vector (first element becomes last) (★☆☆)\n",
        "\n",
        "reverse_range_vector = range_vector[::-1]\n",
        "reverse_range_vector"
      ],
      "metadata": {
        "colab": {
          "base_uri": "https://localhost:8080/"
        },
        "id": "6DUxT8HOi2hK",
        "outputId": "3d4b2006-3776-4438-e987-69ba6d4865e4"
      },
      "execution_count": 17,
      "outputs": [
        {
          "output_type": "execute_result",
          "data": {
            "text/plain": [
              "array([49, 48, 47, 46, 45, 44, 43, 42, 41, 40, 39, 38, 37, 36, 35, 34, 33,\n",
              "       32, 31, 30, 29, 28, 27, 26, 25, 24, 23, 22, 21, 20, 19, 18, 17, 16,\n",
              "       15, 14, 13, 12, 11, 10])"
            ]
          },
          "metadata": {},
          "execution_count": 17
        }
      ]
    },
    {
      "cell_type": "code",
      "source": [
        "# Task 6:   Create a 3x3 matrix with values ranging from 0 to 8 (★☆☆)\n",
        "\n",
        "matrx = np.array(0,8,size=(3,3))\n",
        "matrx"
      ],
      "metadata": {
        "colab": {
          "base_uri": "https://localhost:8080/",
          "height": 221
        },
        "id": "63GAsgW8je-g",
        "outputId": "ec113ce5-a5dc-4811-ae55-8978aac19569"
      },
      "execution_count": 20,
      "outputs": [
        {
          "output_type": "error",
          "ename": "TypeError",
          "evalue": "ignored",
          "traceback": [
            "\u001b[0;31m---------------------------------------------------------------------------\u001b[0m",
            "\u001b[0;31mTypeError\u001b[0m                                 Traceback (most recent call last)",
            "\u001b[0;32m<ipython-input-20-be325ab4b99c>\u001b[0m in \u001b[0;36m<cell line: 3>\u001b[0;34m()\u001b[0m\n\u001b[1;32m      1\u001b[0m \u001b[0;31m# Task 6:   Create a 3x3 matrix with values ranging from 0 to 8\u001b[0m\u001b[0;34m\u001b[0m\u001b[0;34m\u001b[0m\u001b[0m\n\u001b[1;32m      2\u001b[0m \u001b[0;34m\u001b[0m\u001b[0m\n\u001b[0;32m----> 3\u001b[0;31m \u001b[0mmatrx\u001b[0m \u001b[0;34m=\u001b[0m \u001b[0mnp\u001b[0m\u001b[0;34m.\u001b[0m\u001b[0marray\u001b[0m\u001b[0;34m(\u001b[0m\u001b[0;36m0\u001b[0m\u001b[0;34m,\u001b[0m\u001b[0;36m8\u001b[0m\u001b[0;34m,\u001b[0m\u001b[0msize\u001b[0m\u001b[0;34m=\u001b[0m\u001b[0;34m(\u001b[0m\u001b[0;36m3\u001b[0m\u001b[0;34m,\u001b[0m\u001b[0;36m3\u001b[0m\u001b[0;34m)\u001b[0m\u001b[0;34m)\u001b[0m\u001b[0;34m\u001b[0m\u001b[0;34m\u001b[0m\u001b[0m\n\u001b[0m\u001b[1;32m      4\u001b[0m \u001b[0mmatrx\u001b[0m\u001b[0;34m\u001b[0m\u001b[0;34m\u001b[0m\u001b[0m\n",
            "\u001b[0;31mTypeError\u001b[0m: array() got an unexpected keyword argument 'size'"
          ]
        }
      ]
    },
    {
      "cell_type": "code",
      "source": [
        "# Task 6:   Create a 3x3 matrix with values ranging from 0 to 8 (★☆☆)\n",
        "\n",
        "matrx = np.arange(9).reshape(3,3)\n",
        "matrx"
      ],
      "metadata": {
        "colab": {
          "base_uri": "https://localhost:8080/"
        },
        "id": "Ut_Hs2GNkFX0",
        "outputId": "f566850b-cf60-4354-947f-6d2f97741f24"
      },
      "execution_count": 21,
      "outputs": [
        {
          "output_type": "execute_result",
          "data": {
            "text/plain": [
              "array([[0, 1, 2],\n",
              "       [3, 4, 5],\n",
              "       [6, 7, 8]])"
            ]
          },
          "metadata": {},
          "execution_count": 21
        }
      ]
    },
    {
      "cell_type": "code",
      "source": [
        "# Task 7:   Find indices of non­zero elements from [1,2,0,0,4,0]  (★☆☆)\n",
        "\n",
        "indeces = np.nonzero([1,2,0,0,4,0])\n",
        "indeces"
      ],
      "metadata": {
        "colab": {
          "base_uri": "https://localhost:8080/"
        },
        "id": "6Qw0En8pkS-m",
        "outputId": "21efc695-efde-4474-ec55-2fd1d8c70318"
      },
      "execution_count": 22,
      "outputs": [
        {
          "output_type": "execute_result",
          "data": {
            "text/plain": [
              "(array([0, 1, 4]),)"
            ]
          },
          "metadata": {},
          "execution_count": 22
        }
      ]
    },
    {
      "cell_type": "code",
      "source": [
        "# Task 8:   Create a 3x3 identity matrix (★☆☆)\n",
        "\n",
        "identity = np.eye(3)\n",
        "identity"
      ],
      "metadata": {
        "colab": {
          "base_uri": "https://localhost:8080/"
        },
        "id": "V940eYjuklFc",
        "outputId": "fe3fd33e-88fd-4923-dbdd-468a586fbf11"
      },
      "execution_count": 23,
      "outputs": [
        {
          "output_type": "execute_result",
          "data": {
            "text/plain": [
              "array([[1., 0., 0.],\n",
              "       [0., 1., 0.],\n",
              "       [0., 0., 1.]])"
            ]
          },
          "metadata": {},
          "execution_count": 23
        }
      ]
    },
    {
      "cell_type": "code",
      "source": [
        "# Task 9:    Create a 3x3x3 array with random values (★☆☆)\n",
        "\n",
        "random_3_by_3 = np.random.random((3,3,3))\n",
        "random_3_by_3"
      ],
      "metadata": {
        "colab": {
          "base_uri": "https://localhost:8080/"
        },
        "id": "32bqqDdQk2Q4",
        "outputId": "db6f1b35-7903-4591-9446-4c02169c41a9"
      },
      "execution_count": 28,
      "outputs": [
        {
          "output_type": "execute_result",
          "data": {
            "text/plain": [
              "array([[[0.84225017, 0.12603424, 0.73447569],\n",
              "        [0.16807332, 0.7958127 , 0.38704429],\n",
              "        [0.86452566, 0.61649232, 0.38274686]],\n",
              "\n",
              "       [[0.70294829, 0.46573608, 0.50099556],\n",
              "        [0.07237415, 0.76020934, 0.40990864],\n",
              "        [0.75209582, 0.50090109, 0.42552872]],\n",
              "\n",
              "       [[0.82724987, 0.12422325, 0.93663202],\n",
              "        [0.7886167 , 0.43169873, 0.70004669],\n",
              "        [0.74225203, 0.46820634, 0.65362681]]])"
            ]
          },
          "metadata": {},
          "execution_count": 28
        }
      ]
    },
    {
      "cell_type": "code",
      "source": [
        "# Task 10:    Create a 10x10 array with random values and find the minimum and maximum values (★☆☆)\n",
        "\n",
        "random_10_by_10 = np.random.random((10,10))\n",
        "print(random_10_by_10)\n",
        "maximum = np.max(random_10_by_10)\n",
        "print(\"Max is: \", maximum)\n",
        "minimum = np.min(random_10_by_10)\n",
        "print(\"Min is: \", minimum)"
      ],
      "metadata": {
        "colab": {
          "base_uri": "https://localhost:8080/"
        },
        "id": "aPbdAWAulzx-",
        "outputId": "e88871ba-e0ba-457b-f89e-ef01e0497c70"
      },
      "execution_count": 36,
      "outputs": [
        {
          "output_type": "stream",
          "name": "stdout",
          "text": [
            "[[0.15950214 0.24530811 0.94488352 0.17220997 0.82843678 0.210502\n",
            "  0.88777132 0.81744212 0.88893287 0.98828901]\n",
            " [0.66089703 0.27393209 0.31861176 0.94320282 0.77214781 0.91174486\n",
            "  0.64571044 0.31988415 0.37900582 0.22543148]\n",
            " [0.82992515 0.34188241 0.96022099 0.17395528 0.34841825 0.95985456\n",
            "  0.15123238 0.56162072 0.01021538 0.9261366 ]\n",
            " [0.68538537 0.032321   0.74201623 0.92393503 0.13741125 0.35999076\n",
            "  0.84275421 0.80942278 0.85897861 0.36368973]\n",
            " [0.45216073 0.06548261 0.35037505 0.62181033 0.65683599 0.92901747\n",
            "  0.08560043 0.68573729 0.55209309 0.01475686]\n",
            " [0.64945254 0.81332408 0.3287336  0.59628681 0.91320459 0.21865406\n",
            "  0.47944319 0.22502983 0.68047451 0.11420541]\n",
            " [0.4866918  0.17239027 0.6482931  0.78000509 0.00403466 0.75571292\n",
            "  0.01101424 0.46610915 0.07927961 0.63333323]\n",
            " [0.53070528 0.11027653 0.07735586 0.41791384 0.66454785 0.17891334\n",
            "  0.94507396 0.12596839 0.60475506 0.66865444]\n",
            " [0.23870159 0.97126653 0.1440631  0.83750196 0.32556471 0.06266491\n",
            "  0.95022655 0.90585902 0.65920915 0.82649792]\n",
            " [0.63328612 0.08078302 0.59980901 0.17419782 0.88823551 0.31971473\n",
            "  0.81627061 0.30731846 0.03596764 0.79927828]]\n",
            "Max is:  0.9882890069726998\n",
            "Min is:  0.004034656263986247\n"
          ]
        }
      ]
    },
    {
      "cell_type": "code",
      "source": [
        "# Task 11:     Create a random vector of size 30 and find the mean value (★☆☆)\n",
        "\n",
        "random_size_30_vector = np.random.random(30)\n",
        "print(random_size_30_vector)\n",
        "print(\"Mean is: \", np.mean(random_size_30_vector))"
      ],
      "metadata": {
        "colab": {
          "base_uri": "https://localhost:8080/"
        },
        "id": "MBiP9z0XnKLf",
        "outputId": "588bca62-51f0-4da3-c4e3-a1474094c288"
      },
      "execution_count": 38,
      "outputs": [
        {
          "output_type": "stream",
          "name": "stdout",
          "text": [
            "[0.34242172 0.25596002 0.41703114 0.25776579 0.48034313 0.33991531\n",
            " 0.97967803 0.1094314  0.48826461 0.73843583 0.3162656  0.06701002\n",
            " 0.41342284 0.12756518 0.19391448 0.55401138 0.60259062 0.26431782\n",
            " 0.78636041 0.8248226  0.93637237 0.32541418 0.39227423 0.27903943\n",
            " 0.97691816 0.31318824 0.88022451 0.8253603  0.99715957 0.08076718]\n",
            "Mean is:  0.48554153673621564\n"
          ]
        }
      ]
    },
    {
      "cell_type": "code",
      "source": [
        "# Task 12:      Create a 2d array with 1 on the border and 0 inside (★☆☆)\n",
        "\n",
        "Z = np.ones((10,10))\n",
        "Z[1:-1,1:-1] = 0\n",
        "Z"
      ],
      "metadata": {
        "colab": {
          "base_uri": "https://localhost:8080/"
        },
        "id": "qU4bXv9dn3KO",
        "outputId": "3be1c185-8fea-413e-befa-5131e0c27a7a"
      },
      "execution_count": 76,
      "outputs": [
        {
          "output_type": "execute_result",
          "data": {
            "text/plain": [
              "array([[1., 1., 1., 1., 1., 1., 1., 1., 1., 1.],\n",
              "       [1., 0., 0., 0., 0., 0., 0., 0., 0., 1.],\n",
              "       [1., 0., 0., 0., 0., 0., 0., 0., 0., 1.],\n",
              "       [1., 0., 0., 0., 0., 0., 0., 0., 0., 1.],\n",
              "       [1., 0., 0., 0., 0., 0., 0., 0., 0., 1.],\n",
              "       [1., 0., 0., 0., 0., 0., 0., 0., 0., 1.],\n",
              "       [1., 0., 0., 0., 0., 0., 0., 0., 0., 1.],\n",
              "       [1., 0., 0., 0., 0., 0., 0., 0., 0., 1.],\n",
              "       [1., 0., 0., 0., 0., 0., 0., 0., 0., 1.],\n",
              "       [1., 1., 1., 1., 1., 1., 1., 1., 1., 1.]])"
            ]
          },
          "metadata": {},
          "execution_count": 76
        }
      ]
    },
    {
      "cell_type": "code",
      "source": [
        "# Task 13:      Create a 2d array with 0 on the border and 1 inside (★☆☆)\n",
        "\n",
        "Z = np.zeros((10,10))\n",
        "Z[1:-1,1:-1] = 1\n",
        "Z"
      ],
      "metadata": {
        "colab": {
          "base_uri": "https://localhost:8080/"
        },
        "id": "Wgtw5LnFrzbc",
        "outputId": "a7a49bc2-db52-497d-b572-126f581c0bd6"
      },
      "execution_count": 77,
      "outputs": [
        {
          "output_type": "execute_result",
          "data": {
            "text/plain": [
              "array([[0., 0., 0., 0., 0., 0., 0., 0., 0., 0.],\n",
              "       [0., 1., 1., 1., 1., 1., 1., 1., 1., 0.],\n",
              "       [0., 1., 1., 1., 1., 1., 1., 1., 1., 0.],\n",
              "       [0., 1., 1., 1., 1., 1., 1., 1., 1., 0.],\n",
              "       [0., 1., 1., 1., 1., 1., 1., 1., 1., 0.],\n",
              "       [0., 1., 1., 1., 1., 1., 1., 1., 1., 0.],\n",
              "       [0., 1., 1., 1., 1., 1., 1., 1., 1., 0.],\n",
              "       [0., 1., 1., 1., 1., 1., 1., 1., 1., 0.],\n",
              "       [0., 1., 1., 1., 1., 1., 1., 1., 1., 0.],\n",
              "       [0., 0., 0., 0., 0., 0., 0., 0., 0., 0.]])"
            ]
          },
          "metadata": {},
          "execution_count": 77
        }
      ]
    },
    {
      "cell_type": "code",
      "source": [
        "# Task 15. What is the result of the following expression? (★☆☆)\n",
        "\n",
        "0 * np.nan\n",
        "np.nan == np.nan\n",
        "np.inf > np.nan\n",
        "np.nan - np.nan\n",
        "0.3 == 3 * 0.1"
      ],
      "metadata": {
        "colab": {
          "base_uri": "https://localhost:8080/"
        },
        "id": "l032qr1osIGk",
        "outputId": "2ee806d2-7317-402e-f707-a5465fbdc7d2"
      },
      "execution_count": 78,
      "outputs": [
        {
          "output_type": "execute_result",
          "data": {
            "text/plain": [
              "False"
            ]
          },
          "metadata": {},
          "execution_count": 78
        }
      ]
    },
    {
      "cell_type": "code",
      "source": [
        "# Task 16. Create a 5x5 matrix with values 1,2,3,4 just below the diagonal (★☆☆)\n",
        "\n",
        "m = np.diag(np.arange(4)+1,k=-1)\n",
        "m"
      ],
      "metadata": {
        "colab": {
          "base_uri": "https://localhost:8080/"
        },
        "id": "QBrYqf_Ssgqf",
        "outputId": "08c9d7f3-d08a-41c8-e77c-458c3c40eca1"
      },
      "execution_count": 87,
      "outputs": [
        {
          "output_type": "execute_result",
          "data": {
            "text/plain": [
              "array([[0, 0, 0, 0, 0],\n",
              "       [1, 0, 0, 0, 0],\n",
              "       [0, 2, 0, 0, 0],\n",
              "       [0, 0, 3, 0, 0],\n",
              "       [0, 0, 0, 4, 0]])"
            ]
          },
          "metadata": {},
          "execution_count": 87
        }
      ]
    },
    {
      "cell_type": "code",
      "source": [
        "# Task 17. Create a 8x8 matrix and fill it with a checkerboard pattern (★☆☆)\n",
        "\n",
        "Z = np.zeros((8,8),dtype=int)\n",
        "Z[1::2,::2] = 1\n",
        "Z[::2,1::2] = 1\n",
        "print(Z)"
      ],
      "metadata": {
        "colab": {
          "base_uri": "https://localhost:8080/"
        },
        "id": "HJw9TpRmukzJ",
        "outputId": "5ae97b28-e6dc-4916-fa1a-d6e1cedf35f7"
      },
      "execution_count": 92,
      "outputs": [
        {
          "output_type": "stream",
          "name": "stdout",
          "text": [
            "[[0 1 0 1 0 1 0 1]\n",
            " [1 0 1 0 1 0 1 0]\n",
            " [0 1 0 1 0 1 0 1]\n",
            " [1 0 1 0 1 0 1 0]\n",
            " [0 1 0 1 0 1 0 1]\n",
            " [1 0 1 0 1 0 1 0]\n",
            " [0 1 0 1 0 1 0 1]\n",
            " [1 0 1 0 1 0 1 0]]\n"
          ]
        }
      ]
    },
    {
      "cell_type": "code",
      "source": [
        "# Task 18. Multiply a 5x3 matrix by a 3x2 matrix (real matrix product) (★☆☆)\n",
        "\n",
        "m1 = np.random.random((5,3))\n",
        "m2 = np.random.random((3,2))\n",
        "print(\"Matrix 1: \")\n",
        "print(m1)\n",
        "print(\"Matrix 2: \")\n",
        "print(m2)\n",
        "print(\"Dot Product: \")\n",
        "print(m1 @ m2)"
      ],
      "metadata": {
        "colab": {
          "base_uri": "https://localhost:8080/"
        },
        "id": "X6DY9BcDv_Ru",
        "outputId": "9ca03e72-4845-4a4e-d0b4-6e609b6f26f4"
      },
      "execution_count": 101,
      "outputs": [
        {
          "output_type": "stream",
          "name": "stdout",
          "text": [
            "Matrix 1: \n",
            "[[0.17456868 0.82437942 0.35879511]\n",
            " [0.64778222 0.59463196 0.80879475]\n",
            " [0.82268364 0.47258023 0.08379983]\n",
            " [0.57174856 0.90693423 0.94514479]\n",
            " [0.37152221 0.8110939  0.45343184]]\n",
            "Matrix 2: \n",
            "[[0.51961424 0.03136821]\n",
            " [0.79292937 0.2467039 ]\n",
            " [0.80900709 0.09275422]]\n",
            "Dot Product: \n",
            "[[1.03465081 0.24213328]\n",
            " [1.46241869 0.24203692]\n",
            " [0.86999553 0.15016629]\n",
            " [1.78085232 0.32934511]\n",
            " [1.20301798 0.25381173]]\n"
          ]
        }
      ]
    },
    {
      "cell_type": "code",
      "source": [
        "# Task 19.  Create a 5x5 matrix with row values ranging from 0 to 4 (★★☆)\n",
        "\n",
        "matrx = np.random.choice(5,size=(5,5))\n",
        "matrx"
      ],
      "metadata": {
        "colab": {
          "base_uri": "https://localhost:8080/"
        },
        "id": "2bXgaXswyqRn",
        "outputId": "4501e2b4-7b49-4fcb-9b15-5c3be795aa94"
      },
      "execution_count": 109,
      "outputs": [
        {
          "output_type": "execute_result",
          "data": {
            "text/plain": [
              "array([[1, 4, 2, 4, 4],\n",
              "       [0, 3, 4, 0, 0],\n",
              "       [0, 3, 0, 4, 0],\n",
              "       [0, 3, 0, 0, 4],\n",
              "       [2, 3, 2, 4, 1]])"
            ]
          },
          "metadata": {},
          "execution_count": 109
        }
      ]
    },
    {
      "cell_type": "code",
      "source": [
        "# Task 20. Consider a generator function that generates 10 integers and use it to build an array (★☆☆)\n",
        "\n",
        "def generator():\n",
        "  for x in range(10):\n",
        "    yield x\n",
        "\n",
        "a = np.array(list(generator()))\n",
        "a"
      ],
      "metadata": {
        "colab": {
          "base_uri": "https://localhost:8080/"
        },
        "id": "IUj7TiKSz6oo",
        "outputId": "1e9c7f28-4155-4ab0-c0b7-60e0ba6bd13d"
      },
      "execution_count": 116,
      "outputs": [
        {
          "output_type": "execute_result",
          "data": {
            "text/plain": [
              "array([0, 1, 2, 3, 4, 5, 6, 7, 8, 9])"
            ]
          },
          "metadata": {},
          "execution_count": 116
        }
      ]
    },
    {
      "cell_type": "code",
      "source": [
        "# Task 21. How to get the diagonal of a dot product? (★★★)\n",
        "\n",
        "m1 = np.random.random((2,2))\n",
        "m2 = np.random.random((2,2))\n",
        "print(\"Matrix 1: \")\n",
        "print(m1)\n",
        "print(\"Matrix 2: \")\n",
        "print(m2)\n",
        "print(\"Dot Product: \")\n",
        "d = m1 @ m2\n",
        "print(d)\n",
        "\n",
        "print(\"Diagonal of Dot Product: \")\n",
        "print(np.diag(d))"
      ],
      "metadata": {
        "colab": {
          "base_uri": "https://localhost:8080/"
        },
        "id": "s9GJjwsD09DN",
        "outputId": "78b0f97e-a99c-464d-a9b8-4a225ecc8cd7"
      },
      "execution_count": 118,
      "outputs": [
        {
          "output_type": "stream",
          "name": "stdout",
          "text": [
            "Matrix 1: \n",
            "[[0.21893892 0.25763424]\n",
            " [0.63971879 0.72898918]]\n",
            "Matrix 2: \n",
            "[[0.74968277 0.90153021]\n",
            " [0.51703392 0.06387291]]\n",
            "Dot Product: \n",
            "[[0.29734038 0.2138359 ]\n",
            " [0.85649829 0.62328848]]\n",
            "Diagonal of Dot Product: \n",
            "[0.29734038 0.62328848]\n"
          ]
        }
      ]
    },
    {
      "cell_type": "code",
      "source": [
        "# Task 22.  Given two arrays, X and Y, construct the Cauchy matrix C (Cij = 1/(xi - yj))\n",
        "\n",
        "X = np.arange(8)\n",
        "Y = X + 0.5\n",
        "C = 1.0 / np.subtract.outer(X, Y)\n",
        "print(np.linalg.det(C))"
      ],
      "metadata": {
        "colab": {
          "base_uri": "https://localhost:8080/"
        },
        "id": "b0Njz13c10hX",
        "outputId": "25c2dd72-258f-4cd9-e437-efd83cc870ea"
      },
      "execution_count": 119,
      "outputs": [
        {
          "output_type": "stream",
          "name": "stdout",
          "text": [
            "3638.163637117973\n"
          ]
        }
      ]
    }
  ]
}